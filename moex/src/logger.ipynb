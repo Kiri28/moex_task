{
 "cells": [
  {
   "cell_type": "code",
   "execution_count": 1,
   "metadata": {},
   "outputs": [],
   "source": [
    "from log_reader import reader\n",
    "f=reader()\n",
    "from csv_writer import ins"
   ]
  },
  {
   "cell_type": "markdown",
   "metadata": {},
   "source": [
    "## Начнём строить нашу прогу\n",
    "### Как будет выглядеть:\n",
    "1) Считываем данные построчно приводя каждую строку в массив с данными  \n",
    "2) Создаём массив данных Seconds_mass[ ] за каждую секунду, где будут храниться все записи  \n",
    "3) Создаём счётчик времен start_time, который будет отслеживать секунды и вовремя обновлять массив. \n",
    "Структура Seconds_mass:  \n",
    " [количество сигналов, среднее, медиана, 90 перцентиль, 99 перцентиль]"
   ]
  },
  {
   "cell_type": "code",
   "execution_count": 2,
   "metadata": {},
   "outputs": [
    {
     "name": "stdout",
     "output_type": "stream",
     "text": [
      "1\n"
     ]
    }
   ],
   "source": [
    "import re\n",
    "nn=re.split('\\;|,', f[0])[4].split()[-1]\n",
    "for i in range(1,10):\n",
    "    st=re.split('\\;|,', f[i])\n",
    "    if st[4].split()[-1]==nn:\n",
    "        print(i)"
   ]
  },
  {
   "cell_type": "code",
   "execution_count": 3,
   "metadata": {},
   "outputs": [],
   "source": [
    "from math_foo import median,pers_90,pers_99"
   ]
  },
  {
   "cell_type": "code",
   "execution_count": 5,
   "metadata": {},
   "outputs": [],
   "source": [
    "import datetime\n",
    "\n",
    "#Эта штука будет смотреть текущее время работы системы\n",
    "current_time=datetime.datetime.strptime(re.split('\\;|,', f[0])[0],'%H:%M:%S.%f')\n",
    "#Создаём словарь очередей, где на вход поступает входной сигнал и ожидает своего ответа\n",
    "quant={}\n",
    "\n",
    "#Счётчик заполненности словаря\n",
    "sch=0\n",
    "\n",
    "Seconds_mass={}\n",
    "\n",
    "for i in range(len(f)):\n",
    "    st=re.split('\\;|,', f[i])\n",
    "    if (\"P2_COD\"not in f[i]) and ('SQLProxy' not in f[i]): #Проверяем нет ли у нас игнорируемых сигналов\n",
    "        \n",
    "        mee=[]\n",
    "        if st[8].split()[0]=='type':\n",
    "            mee=st[8].split()\n",
    "        else:\n",
    "            for j in range(4,len(st)-3):\n",
    "                if st[j].split()[0]=='type':\n",
    "                    mee=st[j].split()\n",
    "            \n",
    "\n",
    "        #Случай, поступает новая входная команда\n",
    "        #Данные содержатся в формате [формат, время начала исполнения]\n",
    "        if ( st[4].split()[-1] not in quant ) and ( int(mee[-1])<100 ):\n",
    "            quant[st[4].split()[-1]]=[int(mee[-1]),datetime.datetime.strptime(st[0],'%H:%M:%S.%f')]\n",
    "            sch+=1\n",
    "    \n",
    "        #Случай, когда поступает новая выходная команда\n",
    "        if ( st[4].split()[-1] in quant ) and ( int(mee[-1])>100 ):\n",
    "            quant[st[4].split()[-1]][1]=abs(quant[st[4].split()[-1]][1]-datetime.datetime.strptime(st[0],'%H:%M:%S.%f')).total_seconds()\n",
    "            sch-=1\n",
    "            \n",
    "        #Проверяем прошла ли секунда и если да, то заносим все данные в таблицу\n",
    "        if (abs(current_time-datetime.datetime.strptime(st[0],'%H:%M:%S.%f')).total_seconds()>1 and sch==0)or(i==len(f)):\n",
    "            #Теперь отсчёт начинаем с другого момента\n",
    "            timing=current_time.strftime(\"%H.%M.%S\")\n",
    "            current_time=datetime.datetime.strptime(st[0],'%H:%M:%S.%f')\n",
    "            \n",
    "            \n",
    "            \n",
    "            #Теперь, когда истекла секунда, создаём словарь для последующего занесения данных в ксв (Хааа, звучит прям как кфс)))\n",
    "            #Seconds_mass={} - так будут его звать\n",
    "            Seconds_mass={}\n",
    "\n",
    "            for j in quant:\n",
    "                #Проверяем есть ли указанный элемент в словаре\n",
    "                if quant[j][0] not in Seconds_mass:\n",
    "                    Seconds_mass[quant[j][0]]=[quant[j][1]]\n",
    "                else:\n",
    "                    Seconds_mass[quant[j][0]].append(quant[j][1])\n",
    "                    \n",
    "            #Заносим результаты в csv\n",
    "            for j in Seconds_mass:\n",
    "                Seconds_mass[j].sort()\n",
    "                ins(timing,j,len(Seconds_mass[j]),sum(Seconds_mass[j])/len(Seconds_mass[j]),median(Seconds_mass[j]),pers_90(Seconds_mass[j]),pers_99(Seconds_mass[j]),max(Seconds_mass[j]))"
   ]
  },
  {
   "cell_type": "code",
   "execution_count": 4,
   "metadata": {},
   "outputs": [],
   "source": [
    "ins(\"time\",'type',\"quantity\",\"medium\",\"median\",\"pers90\",\"pers99\",'max')"
   ]
  },
  {
   "cell_type": "code",
   "execution_count": null,
   "metadata": {},
   "outputs": [],
   "source": []
  }
 ],
 "metadata": {
  "kernelspec": {
   "display_name": "Python 3",
   "language": "python",
   "name": "python3"
  },
  "language_info": {
   "codemirror_mode": {
    "name": "ipython",
    "version": 3
   },
   "file_extension": ".py",
   "mimetype": "text/x-python",
   "name": "python",
   "nbconvert_exporter": "python",
   "pygments_lexer": "ipython3",
   "version": "3.7.2"
  }
 },
 "nbformat": 4,
 "nbformat_minor": 2
}
