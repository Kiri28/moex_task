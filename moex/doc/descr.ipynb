{
 "cells": [
  {
   "cell_type": "markdown",
   "metadata": {},
   "source": [
    "# Будем описывать задачу"
   ]
  },
  {
   "cell_type": "markdown",
   "metadata": {},
   "source": [
    "Для начала считаем данные из log- файла  \n",
    "Абсолютно тривиальный скритп.  \n",
    "[log_reader]  \n",
    "\n",
    "[log_reader]:https://github.com/Kiri28/moex_task/blob/master/moex/bin/log_reader.py"
   ]
  },
  {
   "cell_type": "markdown",
   "metadata": {},
   "source": [
    "## Основная идея:\n",
    "### Будем решать задачу динамически!\n",
    "### Что нам надо: \n",
    "надо за каждую секунду посчитать количество сигналов каждого типа, и информацию о задержках для них, тоесть разницу между входным и выходным сигналом данного типа. На основе задержек для сигнала каждого типа строим статистические данные."
   ]
  },
  {
   "cell_type": "markdown",
   "metadata": {},
   "source": [
    "## Начнём строить нашу прогу\n",
    "### Как будет выглядеть:\n",
    "1) Считываем данные построчно приводя каждую строку в массив с данными  \n",
    "2) Создаём словарь данных Seconds_mass{} по типу: тип сигнала:[набор из задержек] который будет обновлятья каждую секунду.   \n",
    "3) Создаём счётчик времен start_time, который будет отслеживать секунды и вовремя обновлять массив. "
   ]
  },
  {
   "cell_type": "markdown",
   "metadata": {},
   "source": [
    "Создаём словарь очередей, где на вход поступает входной сигнал и ожидает своего ответа"
   ]
  },
  {
   "cell_type": "code",
   "execution_count": 2,
   "metadata": {},
   "outputs": [],
   "source": [
    "quant={}"
   ]
  },
  {
   "cell_type": "markdown",
   "metadata": {},
   "source": [
    "Необходимо чтобы словарь очередей дожидался выходных сигналов, даже если истекла секунда, поэтому словарь должен быть полностью закрыт, тоесть должно исполниться чётное число сигналов."
   ]
  },
  {
   "cell_type": "code",
   "execution_count": 3,
   "metadata": {},
   "outputs": [],
   "source": [
    "sch=0"
   ]
  },
  {
   "cell_type": "markdown",
   "metadata": {},
   "source": [
    "Будем отслеживать поток сигналов"
   ]
  },
  {
   "cell_type": "code",
   "execution_count": null,
   "metadata": {},
   "outputs": [],
   "source": [
    "for i in range(len(f)):\n",
    "    st=re.split('\\;|,', f[i])\n",
    "    if (\"P2_COD\"not in f[i]) and ('SQLProxy' not in f[i]): #Проверяем нет ли у нас игнорируемых сигналов\n",
    "        \n",
    "        mee=[]\n",
    "        if st[8].split()[0]=='type':\n",
    "            mee=st[8].split()\n",
    "        else:\n",
    "            for j in range(4,len(st)-3):\n",
    "                if st[j].split()[0]=='type':\n",
    "                    mee=st[j].split()\n",
    "            \n",
    "\n",
    "        #Случай, поступает новая входная команда\n",
    "        #Данные содержатся в формате [формат, время начала исполнения]\n",
    "        if ( st[4].split()[-1] not in quant ) and ( int(mee[-1])<100 ):\n",
    "            quant[st[4].split()[-1]]=[int(mee[-1]),datetime.datetime.strptime(st[0],'%H:%M:%S.%f')]\n",
    "            sch+=1\n",
    "    \n",
    "        #Случай, когда поступает новая выходная команда\n",
    "        if ( st[4].split()[-1] in quant ) and ( int(mee[-1])>100 ):\n",
    "            quant[st[4].split()[-1]][1]=abs(quant[st[4].split()[-1]][1]-datetime.datetime.strptime(st[0],'%H:%M:%S.%f')).total_seconds()\n",
    "            sch-=1"
   ]
  },
  {
   "cell_type": "markdown",
   "metadata": {},
   "source": [
    "В случае истечения секунды необходимо занести данные в словарь Seconds_mass{}.  "
   ]
  },
  {
   "cell_type": "code",
   "execution_count": null,
   "metadata": {},
   "outputs": [],
   "source": [
    "#Проверяем прошла ли секунда и если да, то заносим все данные в таблицу\n",
    "        if (abs(current_time-datetime.datetime.strptime(st[0],'%H:%M:%S.%f')).total_seconds()>1 and sch==0)or(i==len(f)):\n",
    "            #Теперь отсчёт начинаем с другого момента\n",
    "            timing=current_time.strftime(\"%H.%M.%S\")\n",
    "            current_time=datetime.datetime.strptime(st[0],'%H:%M:%S.%f')\n",
    "            \n",
    "            \n",
    "            \n",
    "            #Теперь, когда истекла секунда, создаём словарь для последующего занесения данных в ксв (Хааа, звучит прям как кфс)))\n",
    "            #Seconds_mass={} - так будут его звать\n",
    "            Seconds_mass={}\n",
    "\n",
    "            for j in quant:\n",
    "                #Проверяем есть ли указанный элемент в словаре\n",
    "                if quant[j][0] not in Seconds_mass:\n",
    "                    Seconds_mass[quant[j][0]]=[quant[j][1]]\n",
    "                else:\n",
    "                    Seconds_mass[quant[j][0]].append(quant[j][1])"
   ]
  },
  {
   "cell_type": "markdown",
   "metadata": {},
   "source": [
    "Теперь надо занести словарь в csv формат и очистить его   \n",
    "Все основные мат. функции сделаны тут:\n",
    "[math_foo]  \n",
    "\n",
    "[math_foo]:https://github.com/Kiri28/moex_task/blob/master/moex/bin/math_foo.py\n",
    "\n",
    "Функция связки с csv -ридером:  \n",
    "[csv_writer]  \n",
    "\n",
    "[csv_writer]:https://github.com/Kiri28/moex_task/blob/master/moex/bin/csv_writer.py"
   ]
  },
  {
   "cell_type": "code",
   "execution_count": null,
   "metadata": {},
   "outputs": [],
   "source": [
    " #Заносим результаты в csv\n",
    "for j in Seconds_mass:\n",
    "    Seconds_mass[j].sort()\n",
    "    ins(timing,j,len(Seconds_mass[j]),sum(Seconds_mass[j])/len(Seconds_mass[j]),median(Seconds_mass[j]),pers_90(Seconds_mass[j]),pers_99(Seconds_mass[j]),max(Seconds_mass[j]))"
   ]
  },
  {
   "cell_type": "markdown",
   "metadata": {},
   "source": [
    "В итоге все данные заносятся в csv файл \n",
    "[result-1.csv]  \n",
    "\n",
    "[result-1.csv]:https://github.com/Kiri28/moex_task/blob/master/moex/result_1.csv\n",
    "__________\n",
    "### А вот и примерный вариант:"
   ]
  },
  {
   "cell_type": "code",
   "execution_count": 10,
   "metadata": {},
   "outputs": [],
   "source": [
    "from pandas import read_csv\n",
    "df1 = read_csv(\"result_1.csv\")"
   ]
  },
  {
   "cell_type": "code",
   "execution_count": 11,
   "metadata": {},
   "outputs": [
    {
     "data": {
      "text/html": [
       "<div>\n",
       "<style scoped>\n",
       "    .dataframe tbody tr th:only-of-type {\n",
       "        vertical-align: middle;\n",
       "    }\n",
       "\n",
       "    .dataframe tbody tr th {\n",
       "        vertical-align: top;\n",
       "    }\n",
       "\n",
       "    .dataframe thead th {\n",
       "        text-align: right;\n",
       "    }\n",
       "</style>\n",
       "<table border=\"1\" class=\"dataframe\">\n",
       "  <thead>\n",
       "    <tr style=\"text-align: right;\">\n",
       "      <th></th>\n",
       "      <th>time</th>\n",
       "      <th>type</th>\n",
       "      <th>quantity</th>\n",
       "      <th>medium</th>\n",
       "      <th>median</th>\n",
       "      <th>pers90</th>\n",
       "      <th>pers99</th>\n",
       "      <th>max</th>\n",
       "    </tr>\n",
       "  </thead>\n",
       "  <tbody>\n",
       "    <tr>\n",
       "      <th>0</th>\n",
       "      <td>22.00.00</td>\n",
       "      <td>1</td>\n",
       "      <td>42</td>\n",
       "      <td>0.000247</td>\n",
       "      <td>0.000247</td>\n",
       "      <td>0.000276</td>\n",
       "      <td>0.000291</td>\n",
       "      <td>0.000291</td>\n",
       "    </tr>\n",
       "    <tr>\n",
       "      <th>1</th>\n",
       "      <td>22.00.00</td>\n",
       "      <td>3</td>\n",
       "      <td>39</td>\n",
       "      <td>0.000218</td>\n",
       "      <td>0.000212</td>\n",
       "      <td>0.000232</td>\n",
       "      <td>0.000332</td>\n",
       "      <td>0.000332</td>\n",
       "    </tr>\n",
       "    <tr>\n",
       "      <th>2</th>\n",
       "      <td>22.00.00</td>\n",
       "      <td>11</td>\n",
       "      <td>14</td>\n",
       "      <td>0.000228</td>\n",
       "      <td>0.000221</td>\n",
       "      <td>0.000257</td>\n",
       "      <td>0.000311</td>\n",
       "      <td>0.000311</td>\n",
       "    </tr>\n",
       "    <tr>\n",
       "      <th>3</th>\n",
       "      <td>22.00.00</td>\n",
       "      <td>9</td>\n",
       "      <td>15</td>\n",
       "      <td>0.000279</td>\n",
       "      <td>0.000272</td>\n",
       "      <td>0.000316</td>\n",
       "      <td>0.000324</td>\n",
       "      <td>0.000324</td>\n",
       "    </tr>\n",
       "    <tr>\n",
       "      <th>4</th>\n",
       "      <td>22.00.01</td>\n",
       "      <td>1</td>\n",
       "      <td>87</td>\n",
       "      <td>0.000249</td>\n",
       "      <td>0.000248</td>\n",
       "      <td>0.000276</td>\n",
       "      <td>0.000305</td>\n",
       "      <td>0.000315</td>\n",
       "    </tr>\n",
       "    <tr>\n",
       "      <th>5</th>\n",
       "      <td>22.00.01</td>\n",
       "      <td>3</td>\n",
       "      <td>92</td>\n",
       "      <td>0.000214</td>\n",
       "      <td>0.000210</td>\n",
       "      <td>0.000235</td>\n",
       "      <td>0.000328</td>\n",
       "      <td>0.000332</td>\n",
       "    </tr>\n",
       "    <tr>\n",
       "      <th>6</th>\n",
       "      <td>22.00.01</td>\n",
       "      <td>11</td>\n",
       "      <td>18</td>\n",
       "      <td>0.000228</td>\n",
       "      <td>0.000227</td>\n",
       "      <td>0.000248</td>\n",
       "      <td>0.000311</td>\n",
       "      <td>0.000311</td>\n",
       "    </tr>\n",
       "    <tr>\n",
       "      <th>7</th>\n",
       "      <td>22.00.01</td>\n",
       "      <td>9</td>\n",
       "      <td>18</td>\n",
       "      <td>0.000274</td>\n",
       "      <td>0.000271</td>\n",
       "      <td>0.000312</td>\n",
       "      <td>0.000324</td>\n",
       "      <td>0.000324</td>\n",
       "    </tr>\n",
       "    <tr>\n",
       "      <th>8</th>\n",
       "      <td>22.00.02</td>\n",
       "      <td>1</td>\n",
       "      <td>131</td>\n",
       "      <td>0.000251</td>\n",
       "      <td>0.000248</td>\n",
       "      <td>0.000274</td>\n",
       "      <td>0.000329</td>\n",
       "      <td>0.000538</td>\n",
       "    </tr>\n",
       "    <tr>\n",
       "      <th>9</th>\n",
       "      <td>22.00.02</td>\n",
       "      <td>3</td>\n",
       "      <td>135</td>\n",
       "      <td>0.000216</td>\n",
       "      <td>0.000211</td>\n",
       "      <td>0.000254</td>\n",
       "      <td>0.000331</td>\n",
       "      <td>0.000332</td>\n",
       "    </tr>\n",
       "  </tbody>\n",
       "</table>\n",
       "</div>"
      ],
      "text/plain": [
       "       time  type  quantity    medium    median    pers90    pers99       max\n",
       "0  22.00.00     1        42  0.000247  0.000247  0.000276  0.000291  0.000291\n",
       "1  22.00.00     3        39  0.000218  0.000212  0.000232  0.000332  0.000332\n",
       "2  22.00.00    11        14  0.000228  0.000221  0.000257  0.000311  0.000311\n",
       "3  22.00.00     9        15  0.000279  0.000272  0.000316  0.000324  0.000324\n",
       "4  22.00.01     1        87  0.000249  0.000248  0.000276  0.000305  0.000315\n",
       "5  22.00.01     3        92  0.000214  0.000210  0.000235  0.000328  0.000332\n",
       "6  22.00.01    11        18  0.000228  0.000227  0.000248  0.000311  0.000311\n",
       "7  22.00.01     9        18  0.000274  0.000271  0.000312  0.000324  0.000324\n",
       "8  22.00.02     1       131  0.000251  0.000248  0.000274  0.000329  0.000538\n",
       "9  22.00.02     3       135  0.000216  0.000211  0.000254  0.000331  0.000332"
      ]
     },
     "execution_count": 11,
     "metadata": {},
     "output_type": "execute_result"
    }
   ],
   "source": [
    "df1[:10]"
   ]
  },
  {
   "cell_type": "code",
   "execution_count": null,
   "metadata": {},
   "outputs": [],
   "source": []
  }
 ],
 "metadata": {
  "kernelspec": {
   "display_name": "Python 3",
   "language": "python",
   "name": "python3"
  },
  "language_info": {
   "codemirror_mode": {
    "name": "ipython",
    "version": 3
   },
   "file_extension": ".py",
   "mimetype": "text/x-python",
   "name": "python",
   "nbconvert_exporter": "python",
   "pygments_lexer": "ipython3",
   "version": "3.7.2"
  }
 },
 "nbformat": 4,
 "nbformat_minor": 2
}
